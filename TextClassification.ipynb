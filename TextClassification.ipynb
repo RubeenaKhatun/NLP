{
  "nbformat": 4,
  "nbformat_minor": 0,
  "metadata": {
    "colab": {
      "provenance": [],
      "authorship_tag": "ABX9TyPdM3yoleje0GEAYqlpEzW9",
      "include_colab_link": true
    },
    "kernelspec": {
      "name": "python3",
      "display_name": "Python 3"
    },
    "language_info": {
      "name": "python"
    }
  },
  "cells": [
    {
      "cell_type": "markdown",
      "metadata": {
        "id": "view-in-github",
        "colab_type": "text"
      },
      "source": [
        "<a href=\"https://colab.research.google.com/github/RubeenaKhatun/NLP/blob/main/TextClassification.ipynb\" target=\"_parent\"><img src=\"https://colab.research.google.com/assets/colab-badge.svg\" alt=\"Open In Colab\"/></a>"
      ]
    },
    {
      "cell_type": "code",
      "execution_count": 1,
      "metadata": {
        "id": "grPah6dvS8cZ",
        "outputId": "7a1bede5-6925-4141-e10e-574955da5287",
        "colab": {
          "base_uri": "https://localhost:8080/"
        }
      },
      "outputs": [
        {
          "output_type": "stream",
          "name": "stderr",
          "text": [
            "[nltk_data] Downloading package punkt to /root/nltk_data...\n",
            "[nltk_data]   Unzipping tokenizers/punkt.zip.\n",
            "[nltk_data] Downloading package vader_lexicon to /root/nltk_data...\n",
            "[nltk_data] Downloading package stopwords to /root/nltk_data...\n",
            "[nltk_data]   Unzipping corpora/stopwords.zip.\n",
            "[nltk_data] Downloading package wordnet to /root/nltk_data...\n"
          ]
        }
      ],
      "source": [
        "import nltk\n",
        "nltk.download('punkt')\n",
        "nltk.download('vader_lexicon')\n",
        "nltk.download('stopwords')\n",
        "nltk.download('wordnet')\n",
        "from nltk.sentiment.vader import SentimentIntensityAnalyzer\n",
        "from nltk.tokenize import word_tokenize\n",
        "from nltk.corpus import stopwords\n",
        "from nltk.stem import WordNetLemmatizer"
      ]
    },
    {
      "cell_type": "code",
      "source": [
        "def preprocess_text(text):\n",
        "    # Tokenize the text\n",
        "    words = word_tokenize(text)\n",
        "\n",
        "    # Remove stopwords\n",
        "    words = [word for word in words if word.lower() not in stopwords.words('english')]\n",
        "\n",
        "    # Lemmatize the words\n",
        "    lemmatizer = WordNetLemmatizer()\n",
        "    words = [lemmatizer.lemmatize(word) for word in words]\n",
        "\n",
        "    # Return the preprocessed text as a string\n",
        "    return ' '.join(words)\n",
        "\n",
        "def classify_sentiment(text):\n",
        "    # Preprocess the text\n",
        "    preprocessed_text = preprocess_text(text)\n",
        "\n",
        "    # Load the pre-trained sentiment analyzer from NLTK\n",
        "    sid = SentimentIntensityAnalyzer()\n",
        "\n",
        "    # Use the analyzer to classify the sentiment of the preprocessed text\n",
        "    scores = sid.polarity_scores(preprocessed_text)\n",
        "    if scores['pos'] > scores['neg']:\n",
        "        return 'positive'\n",
        "    elif scores['neg'] > scores['pos']:\n",
        "        return 'negative'\n",
        "    else:\n",
        "        return 'neutral'\n",
        "\n",
        "# Test the program with a sample sentence\n",
        "text = \"bite\"\n",
        "print(classify_sentiment(text))\n",
        "print(classify_sentiment(\"love\"))\n",
        "print(classify_sentiment(\"hate\"))\n",
        "print(classify_sentiment(\"peace\"))"
      ],
      "metadata": {
        "id": "iGWALkmhS9E2",
        "colab": {
          "base_uri": "https://localhost:8080/"
        },
        "outputId": "c0ff6e9d-2c3a-4889-c6ce-90e44b30b852"
      },
      "execution_count": 3,
      "outputs": [
        {
          "output_type": "stream",
          "name": "stdout",
          "text": [
            "neutral\n",
            "positive\n",
            "negative\n",
            "positive\n"
          ]
        }
      ]
    },
    {
      "cell_type": "code",
      "source": [],
      "metadata": {
        "id": "uhHOiGQ4_H87"
      },
      "execution_count": null,
      "outputs": []
    }
  ]
}